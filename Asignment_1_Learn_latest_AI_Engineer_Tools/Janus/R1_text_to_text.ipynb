{
  "nbformat": 4,
  "nbformat_minor": 0,
  "metadata": {
    "colab": {
      "provenance": [],
      "include_colab_link": true
    },
    "kernelspec": {
      "name": "python3",
      "display_name": "Python 3"
    },
    "language_info": {
      "name": "python"
    }
  },
  "cells": [
    {
      "cell_type": "markdown",
      "metadata": {
        "id": "view-in-github",
        "colab_type": "text"
      },
      "source": [
        "<a href=\"https://colab.research.google.com/github/SiriBatchu/Deepseek_Janus/blob/main/Janus/R1_text_to_text.ipynb\" target=\"_parent\"><img src=\"https://colab.research.google.com/assets/colab-badge.svg\" alt=\"Open In Colab\"/></a>"
      ]
    },
    {
      "cell_type": "code",
      "source": [
        "!pip install openai==0.28"
      ],
      "metadata": {
        "colab": {
          "base_uri": "https://localhost:8080/"
        },
        "id": "iUu0NVQXAO2t",
        "outputId": "101ff8c2-8357-4297-e526-b2cfa812e75b"
      },
      "execution_count": null,
      "outputs": [
        {
          "output_type": "stream",
          "name": "stdout",
          "text": [
            "Collecting openai==0.28\n",
            "  Downloading openai-0.28.0-py3-none-any.whl.metadata (13 kB)\n",
            "Requirement already satisfied: requests>=2.20 in /usr/local/lib/python3.11/dist-packages (from openai==0.28) (2.32.3)\n",
            "Requirement already satisfied: tqdm in /usr/local/lib/python3.11/dist-packages (from openai==0.28) (4.67.1)\n",
            "Requirement already satisfied: aiohttp in /usr/local/lib/python3.11/dist-packages (from openai==0.28) (3.11.11)\n",
            "Requirement already satisfied: charset-normalizer<4,>=2 in /usr/local/lib/python3.11/dist-packages (from requests>=2.20->openai==0.28) (3.4.1)\n",
            "Requirement already satisfied: idna<4,>=2.5 in /usr/local/lib/python3.11/dist-packages (from requests>=2.20->openai==0.28) (3.10)\n",
            "Requirement already satisfied: urllib3<3,>=1.21.1 in /usr/local/lib/python3.11/dist-packages (from requests>=2.20->openai==0.28) (2.3.0)\n",
            "Requirement already satisfied: certifi>=2017.4.17 in /usr/local/lib/python3.11/dist-packages (from requests>=2.20->openai==0.28) (2025.1.31)\n",
            "Requirement already satisfied: aiohappyeyeballs>=2.3.0 in /usr/local/lib/python3.11/dist-packages (from aiohttp->openai==0.28) (2.4.4)\n",
            "Requirement already satisfied: aiosignal>=1.1.2 in /usr/local/lib/python3.11/dist-packages (from aiohttp->openai==0.28) (1.3.2)\n",
            "Requirement already satisfied: attrs>=17.3.0 in /usr/local/lib/python3.11/dist-packages (from aiohttp->openai==0.28) (25.1.0)\n",
            "Requirement already satisfied: frozenlist>=1.1.1 in /usr/local/lib/python3.11/dist-packages (from aiohttp->openai==0.28) (1.5.0)\n",
            "Requirement already satisfied: multidict<7.0,>=4.5 in /usr/local/lib/python3.11/dist-packages (from aiohttp->openai==0.28) (6.1.0)\n",
            "Requirement already satisfied: propcache>=0.2.0 in /usr/local/lib/python3.11/dist-packages (from aiohttp->openai==0.28) (0.2.1)\n",
            "Requirement already satisfied: yarl<2.0,>=1.17.0 in /usr/local/lib/python3.11/dist-packages (from aiohttp->openai==0.28) (1.18.3)\n",
            "Downloading openai-0.28.0-py3-none-any.whl (76 kB)\n",
            "\u001b[2K   \u001b[90m━━━━━━━━━━━━━━━━━━━━━━━━━━━━━━━━━━━━━━━━\u001b[0m \u001b[32m76.5/76.5 kB\u001b[0m \u001b[31m2.8 MB/s\u001b[0m eta \u001b[36m0:00:00\u001b[0m\n",
            "\u001b[?25hInstalling collected packages: openai\n",
            "  Attempting uninstall: openai\n",
            "    Found existing installation: openai 1.61.1\n",
            "    Uninstalling openai-1.61.1:\n",
            "      Successfully uninstalled openai-1.61.1\n",
            "Successfully installed openai-0.28.0\n"
          ]
        }
      ]
    },
    {
      "cell_type": "code",
      "source": [
        "import openai\n",
        "import time\n",
        "from IPython.display import clear_output"
      ],
      "metadata": {
        "id": "reBhaAdD_bYM"
      },
      "execution_count": null,
      "outputs": []
    },
    {
      "cell_type": "code",
      "source": [
        "# Set your API key for DeepSeek R1 (or similar service)\n",
        "GROQ_API_KEY = \"\"\n",
        "openai.api_key = GROQ_API_KEY\n",
        "\n",
        "# If your provider requires a custom base URL, set it here:\n",
        "openai.api_base = \"https://api.groq.com/openai/v1\"\n"
      ],
      "metadata": {
        "id": "EYVPEKRs_d5q"
      },
      "execution_count": null,
      "outputs": []
    },
    {
      "cell_type": "code",
      "source": [
        "#Functions for Chatting"
      ],
      "metadata": {
        "id": "d9yx9Ped_lJi"
      },
      "execution_count": null,
      "outputs": []
    },
    {
      "cell_type": "code",
      "source": [
        "def deepseek_r1_chat(messages_history):\n",
        "    \"\"\"\n",
        "    Calls the DeepSeek R1 model to continue a conversation.\n",
        "\n",
        "    Parameters:\n",
        "      messages_history (list): List of message dictionaries (each with 'role' and 'content').\n",
        "\n",
        "    Returns:\n",
        "      str: The assistant's reply or an error message.\n",
        "    \"\"\"\n",
        "    try:\n",
        "        response = openai.ChatCompletion.create(\n",
        "            model=\"deepseek-r1-distill-llama-70b\",\n",
        "            messages=messages_history,\n",
        "            temperature=0.7,\n",
        "            max_tokens=4096,\n",
        "            top_p=0.95\n",
        "        )\n",
        "        # Return the content of the assistant's message\n",
        "        return response.choices[0].message.content\n",
        "    except Exception as err:\n",
        "        return f\"Error during chat: {err}\"\n",
        "\n",
        "def start_interactive_chat():\n",
        "    \"\"\"\n",
        "    Initiates an interactive chat loop with the DeepSeek R1 model.\n",
        "    Type 'quit' to exit and 'clear' to reset the conversation.\n",
        "    \"\"\"\n",
        "    conversation_history = []\n",
        "    print(\"Start chatting with DeepSeek R1! (Type 'quit' to exit, 'clear' to reset the conversation.)\")\n",
        "    while True:\n",
        "        user_message = input(\"\\nYou: \")\n",
        "        if user_message.lower().strip() == \"quit\":\n",
        "            print(\"Exiting chat. Goodbye!\")\n",
        "            break\n",
        "        if user_message.lower().strip() == \"clear\":\n",
        "            conversation_history = []\n",
        "            clear_output(wait=True)\n",
        "            print(\"Chat history cleared. Start a new conversation!\")\n",
        "            continue\n",
        "\n",
        "        # Add the user's message to the conversation history\n",
        "        conversation_history.append({\"role\": \"user\", \"content\": user_message})\n",
        "        # Get the response from DeepSeek R1\n",
        "        reply = deepseek_r1_chat(conversation_history)\n",
        "        conversation_history.append({\"role\": \"assistant\", \"content\": reply})\n",
        "        print(\"\\nDeepSeek R1:\", reply)\n",
        "        # Short pause to help avoid rate limits\n",
        "        time.sleep(0.5)"
      ],
      "metadata": {
        "id": "KeYM0roO_nIY"
      },
      "execution_count": null,
      "outputs": []
    },
    {
      "cell_type": "code",
      "source": [
        "# Uncomment the line below to start the interactive chat.\n",
        "start_interactive_chat()"
      ],
      "metadata": {
        "colab": {
          "base_uri": "https://localhost:8080/"
        },
        "id": "hr0lK97l_oOJ",
        "outputId": "be16b000-3c13-4354-cade-f3b313401700"
      },
      "execution_count": null,
      "outputs": [
        {
          "output_type": "stream",
          "name": "stdout",
          "text": [
            "Start chatting with DeepSeek R1! (Type 'quit' to exit, 'clear' to reset the conversation.)\n",
            "\n",
            "You: hi\n",
            "\n",
            "DeepSeek R1: <think>\n",
            "\n",
            "</think>\n",
            "\n",
            "Hello! How can I assist you today? 😊\n",
            "\n",
            "You: i want to know about data scientist\n",
            "\n",
            "DeepSeek R1: <think>\n",
            "Okay, the user just asked about data scientists. I need to explain what a data scientist is in a clear way.\n",
            "\n",
            "First, I should define the role and mention the key skills they need, like programming and data analysis.\n",
            "\n",
            "It's important to outline the different types of data scientists so the user can understand the variety within the field.\n",
            "\n",
            "Next, I'll walk through the typical steps someone would take to become a data scientist, starting from education to practice and continuous learning.\n",
            "\n",
            "I should also highlight the importance of key technologies and tools they use, such as Python, R, SQL, and machine learning libraries.\n",
            "\n",
            "Including real-world applications will help the user see the practical side of data science, like how it's used in healthcare or finance.\n",
            "\n",
            "Maybe I should touch on the future of data science to give them an idea of where the field is heading.\n",
            "\n",
            "I should keep the language simple and conversational, avoiding any technical jargon that might confuse them.\n",
            "\n",
            "Finally, I'll offer to provide more details or answer specific questions they might have.\n",
            "</think>\n",
            "\n",
            "Certainly! A **data scientist** is a professional who extracts insights and knowledge from structured and unstructured data using various techniques, tools, and algorithms. Data scientists are often referred to as \"data analysts on steroids\" because they combine skills from computer science, statistics, and domain-specific knowledge to solve complex problems.\n",
            "\n",
            "### Key Skills of a Data Scientist:\n",
            "1. **Programming Skills**: Proficiency in languages like Python, R, or SQL.\n",
            "2. **Data Analysis**: Ability to collect, clean, and process data.\n",
            "3. **Machine Learning**: Knowledge of algorithms and models to make predictions or classifications.\n",
            "4. **Data Visualization**: Skills to present insights in a clear and actionable way using tools like Tableau, Power BI, or Python libraries like Matplotlib/Seaborn.\n",
            "5. **Domain Knowledge**: Understanding of the industry or business to provide context to the data.\n",
            "6. **Statistics and Mathematics**: Strong foundation in statistics, probability, and linear algebra.\n",
            "\n",
            "### Types of Data Scientists:\n",
            "1. **Data Analyst**: Focuses on descriptive analytics, using data to answer questions about what happened.\n",
            "2. **Data Engineer**: Builds and maintains the infrastructure to store and process data.\n",
            "3. **Machine Learning Engineer**: Focuses on building models and deploying them into production.\n",
            "4. **Business Intelligence Analyst**: Focuses on using data to improve business performance.\n",
            "\n",
            "### Steps to Become a Data Scientist:\n",
            "1. **Education**: A degree in a quantitative field (e.g., mathematics, statistics, computer science, or engineering) is often preferred, but not always required.\n",
            "2. **Learn Key Tools and Technologies**: Python, R, SQL, Hadoop, Spark, TensorFlow, etc.\n",
            "3. **Practice with Real-World Data**: Work on projects and datasets to build a portfolio.\n",
            "4. **Gain Experience**: Start with internships or entry-level roles and gradually move into more advanced positions.\n",
            "5. **Stay Updated**: The field of data science evolves rapidly, so continuous learning is essential.\n",
            "\n",
            "### Key Technologies and Tools:\n",
            "- **Programming Languages**: Python, R, SQL\n",
            "- **Data Manipulation**: Pandas, NumPy\n",
            "- **Machine Learning**: Scikit-learn, TensorFlow, Keras\n",
            "- **Big Data**: Hadoop, Spark\n",
            "- **Data Visualization**: Tableau, Power BI, Matplotlib, Seaborn\n",
            "- **Databases**: MySQL, PostgreSQL, MongoDB\n",
            "\n",
            "### Applications of Data Science:\n",
            "- **Predictive Modeling**: Forecasting sales, customer churn, etc.\n",
            "- **Recommendation Systems**: Personalized product recommendations.\n",
            "- **Natural Language Processing (NLP)**: Text analysis, sentiment analysis, chatbots.\n",
            "- **Healthcare**: Predicting patient outcomes, drug discovery.\n",
            "- **Finance**: Risk management, fraud detection.\n",
            "- **Marketing**: Customer segmentation, campaign optimization.\n",
            "\n",
            "### Future of Data Science:\n",
            "Data science is a rapidly growing field with applications in almost every industry. With advancements in artificial intelligence (AI) and machine learning (ML), the demand for skilled data scientists is expected to increase. Additionally, the rise of big data and the Internet of Things (IoT) will further fuel the need for professionals who can analyze and interpret large datasets.\n",
            "\n",
            "If you're interested in pursuing a career in data science, start by building a strong foundation in programming, statistics, and data analysis. Practice with real-world datasets and gradually move on to more advanced topics like machine learning and deep learning.\n",
            "\n",
            "Let me know if you'd like more details or help with specific aspects of data science! 😊\n"
          ]
        }
      ]
    }
  ]
}